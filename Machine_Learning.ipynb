{
 "cells": [
  {
   "cell_type": "code",
   "execution_count": 2,
   "metadata": {},
   "outputs": [],
   "source": [
    "import os\n",
    "import pandas as pd\n",
    "import matplotlib.image as mpimg\n",
    "from matplotlib import pyplot as plt\n",
    "import matplotlib as mpl\n",
    "import cv2\n",
    "\n",
    "pd.set_option(\"display.max_rows\", 30)\n",
    "pd.set_option('max_colwidth', 400)"
   ]
  },
  {
   "cell_type": "code",
   "execution_count": 9,
   "metadata": {},
   "outputs": [],
   "source": [
    "val_Data_Directory_df = pd.read_hdf('val_Data_Directory_df.h5')\n",
    "train_Data_Directory_df = pd.read_hdf('train_Data_Directory_df.h5')\n",
    "test_Data_Directory_df = pd.read_hdf('test_Data_Directory_df.h5')\n",
    "class_df = pd.read_hdf('class_df.h5')"
   ]
  },
  {
   "cell_type": "code",
   "execution_count": 10,
   "metadata": {},
   "outputs": [
    {
     "data": {
      "text/html": [
       "<div>\n",
       "<style scoped>\n",
       "    .dataframe tbody tr th:only-of-type {\n",
       "        vertical-align: middle;\n",
       "    }\n",
       "\n",
       "    .dataframe tbody tr th {\n",
       "        vertical-align: top;\n",
       "    }\n",
       "\n",
       "    .dataframe thead th {\n",
       "        text-align: right;\n",
       "    }\n",
       "</style>\n",
       "<table border=\"1\" class=\"dataframe\">\n",
       "  <thead>\n",
       "    <tr style=\"text-align: right;\">\n",
       "      <th></th>\n",
       "      <th>Class</th>\n",
       "    </tr>\n",
       "  </thead>\n",
       "  <tbody>\n",
       "    <tr>\n",
       "      <th>0</th>\n",
       "      <td>cat</td>\n",
       "    </tr>\n",
       "    <tr>\n",
       "      <th>1</th>\n",
       "      <td>dog</td>\n",
       "    </tr>\n",
       "  </tbody>\n",
       "</table>\n",
       "</div>"
      ],
      "text/plain": [
       "  Class\n",
       "0   cat\n",
       "1   dog"
      ]
     },
     "execution_count": 10,
     "metadata": {},
     "output_type": "execute_result"
    }
   ],
   "source": [
    "class_df"
   ]
  },
  {
   "cell_type": "code",
   "execution_count": 11,
   "metadata": {},
   "outputs": [
    {
     "data": {
      "text/html": [
       "<div>\n",
       "<style scoped>\n",
       "    .dataframe tbody tr th:only-of-type {\n",
       "        vertical-align: middle;\n",
       "    }\n",
       "\n",
       "    .dataframe tbody tr th {\n",
       "        vertical-align: top;\n",
       "    }\n",
       "\n",
       "    .dataframe thead th {\n",
       "        text-align: right;\n",
       "    }\n",
       "</style>\n",
       "<table border=\"1\" class=\"dataframe\">\n",
       "  <thead>\n",
       "    <tr style=\"text-align: right;\">\n",
       "      <th></th>\n",
       "      <th>Directory</th>\n",
       "      <th>Set</th>\n",
       "      <th>Class</th>\n",
       "      <th>Class_ID</th>\n",
       "    </tr>\n",
       "  </thead>\n",
       "  <tbody>\n",
       "    <tr>\n",
       "      <th>0</th>\n",
       "      <td>d:\\Files\\GitHub\\General_Image_Classifier\\Datasets\\val\\cat\\cat.100.jpg</td>\n",
       "      <td>val</td>\n",
       "      <td>cat</td>\n",
       "      <td>0</td>\n",
       "    </tr>\n",
       "    <tr>\n",
       "      <th>1</th>\n",
       "      <td>d:\\Files\\GitHub\\General_Image_Classifier\\Datasets\\val\\cat\\cat.1000.jpg</td>\n",
       "      <td>val</td>\n",
       "      <td>cat</td>\n",
       "      <td>0</td>\n",
       "    </tr>\n",
       "    <tr>\n",
       "      <th>2</th>\n",
       "      <td>d:\\Files\\GitHub\\General_Image_Classifier\\Datasets\\val\\cat\\cat.10000.jpg</td>\n",
       "      <td>val</td>\n",
       "      <td>cat</td>\n",
       "      <td>0</td>\n",
       "    </tr>\n",
       "    <tr>\n",
       "      <th>3</th>\n",
       "      <td>d:\\Files\\GitHub\\General_Image_Classifier\\Datasets\\val\\cat\\cat.10010.jpg</td>\n",
       "      <td>val</td>\n",
       "      <td>cat</td>\n",
       "      <td>0</td>\n",
       "    </tr>\n",
       "    <tr>\n",
       "      <th>4</th>\n",
       "      <td>d:\\Files\\GitHub\\General_Image_Classifier\\Datasets\\val\\cat\\cat.10017.jpg</td>\n",
       "      <td>val</td>\n",
       "      <td>cat</td>\n",
       "      <td>0</td>\n",
       "    </tr>\n",
       "  </tbody>\n",
       "</table>\n",
       "</div>"
      ],
      "text/plain": [
       "                                                                 Directory  \\\n",
       "0    d:\\Files\\GitHub\\General_Image_Classifier\\Datasets\\val\\cat\\cat.100.jpg   \n",
       "1   d:\\Files\\GitHub\\General_Image_Classifier\\Datasets\\val\\cat\\cat.1000.jpg   \n",
       "2  d:\\Files\\GitHub\\General_Image_Classifier\\Datasets\\val\\cat\\cat.10000.jpg   \n",
       "3  d:\\Files\\GitHub\\General_Image_Classifier\\Datasets\\val\\cat\\cat.10010.jpg   \n",
       "4  d:\\Files\\GitHub\\General_Image_Classifier\\Datasets\\val\\cat\\cat.10017.jpg   \n",
       "\n",
       "   Set Class  Class_ID  \n",
       "0  val   cat         0  \n",
       "1  val   cat         0  \n",
       "2  val   cat         0  \n",
       "3  val   cat         0  \n",
       "4  val   cat         0  "
      ]
     },
     "execution_count": 11,
     "metadata": {},
     "output_type": "execute_result"
    }
   ],
   "source": [
    "val_Data_Directory_df.head()"
   ]
  },
  {
   "cell_type": "code",
   "execution_count": 16,
   "metadata": {},
   "outputs": [
    {
     "data": {
      "text/html": [
       "<div>\n",
       "<style scoped>\n",
       "    .dataframe tbody tr th:only-of-type {\n",
       "        vertical-align: middle;\n",
       "    }\n",
       "\n",
       "    .dataframe tbody tr th {\n",
       "        vertical-align: top;\n",
       "    }\n",
       "\n",
       "    .dataframe thead th {\n",
       "        text-align: right;\n",
       "    }\n",
       "</style>\n",
       "<table border=\"1\" class=\"dataframe\">\n",
       "  <thead>\n",
       "    <tr style=\"text-align: right;\">\n",
       "      <th></th>\n",
       "      <th>Directory</th>\n",
       "      <th>Set</th>\n",
       "      <th>Class</th>\n",
       "      <th>Class_ID</th>\n",
       "    </tr>\n",
       "  </thead>\n",
       "  <tbody>\n",
       "    <tr>\n",
       "      <th>0</th>\n",
       "      <td>d:\\Files\\GitHub\\General_Image_Classifier\\Datasets\\train\\cat\\cat.0.jpg</td>\n",
       "      <td>train</td>\n",
       "      <td>cat</td>\n",
       "      <td>0</td>\n",
       "    </tr>\n",
       "    <tr>\n",
       "      <th>1</th>\n",
       "      <td>d:\\Files\\GitHub\\General_Image_Classifier\\Datasets\\train\\cat\\cat.1.jpg</td>\n",
       "      <td>train</td>\n",
       "      <td>cat</td>\n",
       "      <td>0</td>\n",
       "    </tr>\n",
       "    <tr>\n",
       "      <th>2</th>\n",
       "      <td>d:\\Files\\GitHub\\General_Image_Classifier\\Datasets\\train\\cat\\cat.10.jpg</td>\n",
       "      <td>train</td>\n",
       "      <td>cat</td>\n",
       "      <td>0</td>\n",
       "    </tr>\n",
       "    <tr>\n",
       "      <th>3</th>\n",
       "      <td>d:\\Files\\GitHub\\General_Image_Classifier\\Datasets\\train\\cat\\cat.10001.jpg</td>\n",
       "      <td>train</td>\n",
       "      <td>cat</td>\n",
       "      <td>0</td>\n",
       "    </tr>\n",
       "    <tr>\n",
       "      <th>4</th>\n",
       "      <td>d:\\Files\\GitHub\\General_Image_Classifier\\Datasets\\train\\cat\\cat.10002.jpg</td>\n",
       "      <td>train</td>\n",
       "      <td>cat</td>\n",
       "      <td>0</td>\n",
       "    </tr>\n",
       "  </tbody>\n",
       "</table>\n",
       "</div>"
      ],
      "text/plain": [
       "                                                                   Directory  \\\n",
       "0      d:\\Files\\GitHub\\General_Image_Classifier\\Datasets\\train\\cat\\cat.0.jpg   \n",
       "1      d:\\Files\\GitHub\\General_Image_Classifier\\Datasets\\train\\cat\\cat.1.jpg   \n",
       "2     d:\\Files\\GitHub\\General_Image_Classifier\\Datasets\\train\\cat\\cat.10.jpg   \n",
       "3  d:\\Files\\GitHub\\General_Image_Classifier\\Datasets\\train\\cat\\cat.10001.jpg   \n",
       "4  d:\\Files\\GitHub\\General_Image_Classifier\\Datasets\\train\\cat\\cat.10002.jpg   \n",
       "\n",
       "     Set Class  Class_ID  \n",
       "0  train   cat         0  \n",
       "1  train   cat         0  \n",
       "2  train   cat         0  \n",
       "3  train   cat         0  \n",
       "4  train   cat         0  "
      ]
     },
     "execution_count": 16,
     "metadata": {},
     "output_type": "execute_result"
    }
   ],
   "source": [
    "train_Data_Directory_df.head()"
   ]
  },
  {
   "cell_type": "code",
   "execution_count": 13,
   "metadata": {},
   "outputs": [
    {
     "data": {
      "text/html": [
       "<div>\n",
       "<style scoped>\n",
       "    .dataframe tbody tr th:only-of-type {\n",
       "        vertical-align: middle;\n",
       "    }\n",
       "\n",
       "    .dataframe tbody tr th {\n",
       "        vertical-align: top;\n",
       "    }\n",
       "\n",
       "    .dataframe thead th {\n",
       "        text-align: right;\n",
       "    }\n",
       "</style>\n",
       "<table border=\"1\" class=\"dataframe\">\n",
       "  <thead>\n",
       "    <tr style=\"text-align: right;\">\n",
       "      <th></th>\n",
       "      <th>Directory</th>\n",
       "      <th>Set</th>\n",
       "      <th>ID</th>\n",
       "      <th>Class</th>\n",
       "      <th>Class_ID</th>\n",
       "    </tr>\n",
       "  </thead>\n",
       "  <tbody>\n",
       "    <tr>\n",
       "      <th>0</th>\n",
       "      <td>d:\\Files\\GitHub\\General_Image_Classifier\\Datasets\\test\\1.jpg</td>\n",
       "      <td>test</td>\n",
       "      <td>1</td>\n",
       "      <td>NaN</td>\n",
       "      <td>NaN</td>\n",
       "    </tr>\n",
       "    <tr>\n",
       "      <th>1</th>\n",
       "      <td>d:\\Files\\GitHub\\General_Image_Classifier\\Datasets\\test\\2.jpg</td>\n",
       "      <td>test</td>\n",
       "      <td>2</td>\n",
       "      <td>NaN</td>\n",
       "      <td>NaN</td>\n",
       "    </tr>\n",
       "    <tr>\n",
       "      <th>2</th>\n",
       "      <td>d:\\Files\\GitHub\\General_Image_Classifier\\Datasets\\test\\3.jpg</td>\n",
       "      <td>test</td>\n",
       "      <td>3</td>\n",
       "      <td>NaN</td>\n",
       "      <td>NaN</td>\n",
       "    </tr>\n",
       "    <tr>\n",
       "      <th>3</th>\n",
       "      <td>d:\\Files\\GitHub\\General_Image_Classifier\\Datasets\\test\\4.jpg</td>\n",
       "      <td>test</td>\n",
       "      <td>4</td>\n",
       "      <td>NaN</td>\n",
       "      <td>NaN</td>\n",
       "    </tr>\n",
       "    <tr>\n",
       "      <th>4</th>\n",
       "      <td>d:\\Files\\GitHub\\General_Image_Classifier\\Datasets\\test\\5.jpg</td>\n",
       "      <td>test</td>\n",
       "      <td>5</td>\n",
       "      <td>NaN</td>\n",
       "      <td>NaN</td>\n",
       "    </tr>\n",
       "  </tbody>\n",
       "</table>\n",
       "</div>"
      ],
      "text/plain": [
       "                                                      Directory   Set  ID  \\\n",
       "0  d:\\Files\\GitHub\\General_Image_Classifier\\Datasets\\test\\1.jpg  test   1   \n",
       "1  d:\\Files\\GitHub\\General_Image_Classifier\\Datasets\\test\\2.jpg  test   2   \n",
       "2  d:\\Files\\GitHub\\General_Image_Classifier\\Datasets\\test\\3.jpg  test   3   \n",
       "3  d:\\Files\\GitHub\\General_Image_Classifier\\Datasets\\test\\4.jpg  test   4   \n",
       "4  d:\\Files\\GitHub\\General_Image_Classifier\\Datasets\\test\\5.jpg  test   5   \n",
       "\n",
       "  Class  Class_ID  \n",
       "0   NaN       NaN  \n",
       "1   NaN       NaN  \n",
       "2   NaN       NaN  \n",
       "3   NaN       NaN  \n",
       "4   NaN       NaN  "
      ]
     },
     "execution_count": 13,
     "metadata": {},
     "output_type": "execute_result"
    }
   ],
   "source": [
    "test_Data_Directory_df.head()"
   ]
  },
  {
   "cell_type": "markdown",
   "metadata": {},
   "source": [
    "# Show Image"
   ]
  },
  {
   "cell_type": "code",
   "execution_count": null,
   "metadata": {},
   "outputs": [],
   "source": [
    "def image_view(file_path): \n",
    "    im = cv2.imread(file_path)\n",
    "    im_resized = cv2.resize(im, (224, 224), interpolation=cv2.INTER_LINEAR)\n",
    "\n",
    "    plt.imshow(cv2.cvtColor(im_resized, cv2.COLOR_BGR2RGB))\n",
    "    plt.title(label = file_path.split(\"\\\\\")[-1] + ' (' + file_path.split(\"\\\\\")[-2] + ')')\n",
    "    plt.axis('off')"
   ]
  }
 ],
 "metadata": {
  "interpreter": {
   "hash": "36a240c41be2d6197fe7733e5ded9213cece68fa056cf7978d7dba6ad6560f82"
  },
  "kernelspec": {
   "display_name": "Python 3.8.3 64-bit ('base': conda)",
   "name": "python3"
  },
  "language_info": {
   "codemirror_mode": {
    "name": "ipython",
    "version": 3
   },
   "file_extension": ".py",
   "mimetype": "text/x-python",
   "name": "python",
   "nbconvert_exporter": "python",
   "pygments_lexer": "ipython3",
   "version": "3.8.3"
  },
  "orig_nbformat": 4
 },
 "nbformat": 4,
 "nbformat_minor": 2
}
